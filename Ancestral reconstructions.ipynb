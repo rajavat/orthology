{
 "cells": [
  {
   "cell_type": "code",
   "execution_count": 3,
   "metadata": {},
   "outputs": [],
   "source": [
    "import pandas as pd\n",
    "import numpy as np\n",
    "import Orthoscripts\n",
    "\n",
    "# Disable chained assignments\n",
    "pd.options.mode.chained_assignment = None\n",
    "\n",
    "# Import genelists\n",
    "Braflo = Orthoscripts.readBED(\"Data/Genelists/Branchiostoma.floridae.genelist.bed\")\n",
    "Pecmax = Orthoscripts.readBED(\"Data/Genelists/Pecmax.genelist.bed\")\n",
    "Holleu = Orthoscripts.readBED(\"Data/Genelists/Holothuria.leucospilota.genelist.bed\")\n",
    "Ephmue = Orthoscripts.readBED(\"Data/Genelists/Ephydatia.muelleri.genelist.bed\")\n",
    "\n",
    "# Import orthologies\n",
    "Pecmax_Braflo = np.loadtxt(\"Orthology pipeline/orthologs/Pecmax+Braflo_sensitive.txt\", dtype = \"str\")\n",
    "Pecmax_Holleu = np.loadtxt(\"Orthology pipeline/orthologs/Pecmax+Holleu_sensitive.txt\", dtype = \"str\")\n",
    "Holleu_Braflo = np.loadtxt(\"Orthology pipeline/orthologs/Holleu+Braflo_sensitive.txt\", dtype = \"str\")\n",
    "Holleu_Ephmue = np.loadtxt(\"Orthology pipeline/orthologs/Holleu+Ephmue_sensitive.txt\", dtype = \"str\")\n",
    "Braflo_Ephmue = np.loadtxt(\"Orthology pipeline/orthologs/Braflo+Ephmue_sensitive.txt\", dtype = \"str\")\n",
    "Pecmax_Ephmue = np.loadtxt(\"Orthology pipeline/orthologs/Pecmax+Ephmue_sensitive.txt\", dtype = \"str\")\n",
    "\n",
    "Pecmax = Pecmax.loc[Pecmax['Chromosome'].str.contains('PYE_')]\n",
    "Braflo = Braflo.loc[Braflo['Chromosome'].str.contains('BFL_')]"
   ]
  },
  {
   "cell_type": "code",
   "execution_count": 6,
   "metadata": {},
   "outputs": [],
   "source": [
    "# Modified version of ortholog function - outputs just the orthologies in df\n",
    "def orthofy(genelistA, genelistB, orthologies):\n",
    "\n",
    "    \"\"\"\n",
    "    inputs:\n",
    "    genelistA: gene list for species A\n",
    "    genelistB: gene list for species B\n",
    "    orthologies: orthology dataset\n",
    "    \n",
    "    outputs: dataframe with significant ortholog combinations \n",
    "             and their location in species A and B and p-Values\n",
    "    \"\"\"\n",
    "\n",
    "    # Make ortholog dictionaries (ortholog : gene name)\n",
    "    orthdictA = dict(zip(orthologies[:, 1], orthologies[:, 0]))\n",
    "    orthdictB = dict(zip(orthologies[:, 2], orthologies[:, 0]))\n",
    "\n",
    "    # Replace genelist values with ortholog dictionary keys\n",
    "    genelistA['Name'] = genelistA['Name'].map(lambda x: orthdictA.get(x, x))\n",
    "    genelistB['Name'] = genelistB['Name'].map(lambda x: orthdictB.get(x, x))\n",
    "\n",
    "    # Make orthology location dictionaries (ortholog : chromosome)\n",
    "    dictA = dict(zip(genelistA.loc[genelistA['Name'].str.contains('ortholog')].Name, \n",
    "                     genelistA.loc[genelistA['Name'].str.contains('ortholog')].Chromosome))\n",
    "    dictB = dict(zip(genelistB.loc[genelistB['Name'].str.contains('ortholog')].Name, \n",
    "                     genelistB.loc[genelistB['Name'].str.contains('ortholog')].Chromosome))\n",
    "\n",
    "    # Seperate all orthology entries into new dataframe\n",
    "    AB_data = pd.DataFrame({'Orthologs': orthologies[:, 0],\n",
    "                            'A' : orthologies[:, 0],\n",
    "                            'B' : orthologies[:, 0]})\n",
    "\n",
    "    # Replace location in A and B with ortholog location dictionary keys\n",
    "    AB_data['A'] = AB_data['A'].map(dictA)\n",
    "    AB_data['B'] = AB_data['B'].map(dictB)\n",
    "\n",
    "    return AB_data"
   ]
  },
  {
   "cell_type": "code",
   "execution_count": 7,
   "metadata": {},
   "outputs": [],
   "source": [
    "PB = orthofy(Pecmax, Braflo, Pecmax_Braflo).dropna()\n",
    "\n",
    "# Make matrix with corresponding chromosomes\n",
    "Amp = ['BFL_11', 'BFL_10', 'BFL_16', 'BFL_8', 'BFL_3', 'BFL_1', 'BFL_18', 'BFL_14', 'BFL_15', 'BFL_5', 'BFL_7', 'BFL_17', 'BFL_19', 'BFL_12', 'BFL_1', 'BFL_13', 'BFL_2', 'BFL_2', 'BFL_6', 'BFL_9', 'BFL_4', 'BFL_4']\n",
    "Sca = ['PYE_10', 'PYE_13', 'PYE_1', 'PYE_1', 'PYE_17', 'PYE_5', 'PYE_19', 'PYE_15', 'PYE_4', 'PYE_6', 'PYE_7', 'PYE_18', 'PYE_3', 'PYE_14', 'PYE_16', 'PYE_2', 'PYE_4', 'PYE_9', 'PYE_8', 'PYE_3', 'PYE_11', 'PYE_12']\n",
    "Anc = ['G', 'B1', 'B2', 'M', 'C2', 'A1aA1b', 'B3', 'P', 'L', 'EaEb', 'F', 'J1', 'O2', 'N', 'A2', 'H', 'J2', 'C1', 'D', 'K', 'I', 'O1']\n",
    "ChrCorr = np.column_stack((Sca, Amp, Anc))"
   ]
  },
  {
   "cell_type": "code",
   "execution_count": 8,
   "metadata": {},
   "outputs": [],
   "source": [
    "# Make dataframe with corresponding chromosomes\n",
    "PBgenes = pd.DataFrame()\n",
    "for i in range (0, 22): \n",
    "    PBorthologs = PB.loc[(PB['A'] == ChrCorr[i, 0]) & (PB['B'] == ChrCorr[i, 1])]\n",
    "    PBorthologs['Chr'] = ChrCorr[i, 2]\n",
    "\n",
    "    PBgenes = pd.concat([PBgenes, PBorthologs])"
   ]
  },
  {
   "cell_type": "code",
   "execution_count": 9,
   "metadata": {},
   "outputs": [],
   "source": [
    "# Manually add R\n",
    "R = PB.loc[(PB['A'] == 'PYE_12') & (PB['B'] != 'BFL_4')]\n",
    "R['Chr'] = 'R'\n",
    "PBgenes = pd.concat([PBgenes, R])\n",
    "\n",
    "# Manually add QbQa and QdQc\n",
    "PBorthologs = PB.loc[(PB['A'] == 'PYE_2') & (PB['B'] == 'BFL_3')]\n",
    "QbQa = PBorthologs.iloc[:101,:]\n",
    "QbQa['Chr'] = 'QbQa'\n",
    "QcQd = PBorthologs.iloc[101:,:]\n",
    "QcQd['Chr'] = 'QcQd'\n",
    "\n",
    "PBgenes = pd.concat([PBgenes, QbQa, QcQd])"
   ]
  },
  {
   "cell_type": "code",
   "execution_count": 10,
   "metadata": {},
   "outputs": [],
   "source": [
    "PBgenes['BGenes'] = PBgenes.loc[:, 'Orthologs']\n",
    "PBgenes = PBgenes.rename(columns = {'Orthologs' : 'PGenes'})\n",
    "PBgenes = PBgenes[['Chr', 'A', 'PGenes', 'B', 'BGenes']]"
   ]
  },
  {
   "cell_type": "code",
   "execution_count": 11,
   "metadata": {},
   "outputs": [],
   "source": [
    "# Make reverse ortholog dictionaries (ortholog : gene name)\n",
    "orthdictA = dict(zip(Pecmax_Braflo[:, 0], Pecmax_Braflo[:, 1]))\n",
    "orthdictB = dict(zip(Pecmax_Braflo[:, 0], Pecmax_Braflo[:, 2]))\n",
    "\n",
    "# Replace values\n",
    "PBgenes['PGenes'] = PBgenes['PGenes'].map(lambda x: orthdictA.get(x, x))\n",
    "PBgenes['BGenes'] = PBgenes['BGenes'].map(lambda x: orthdictB.get(x, x))"
   ]
  },
  {
   "cell_type": "code",
   "execution_count": 12,
   "metadata": {},
   "outputs": [],
   "source": [
    "# Make dictionaries (H gene name : P/B gene name)\n",
    "orthdictP = dict(zip(Pecmax_Holleu[:, 1], Pecmax_Holleu[:, 2]))\n",
    "orthdictB = dict(zip(Holleu_Braflo[:, 2], Holleu_Braflo[:, 1]))\n",
    "\n",
    "# Replace values\n",
    "PBgenes['PGenes'] = PBgenes['PGenes'].map(lambda x: orthdictP.get(x, x))\n",
    "PBgenes['BGenes'] = PBgenes['BGenes'].map(lambda x: orthdictB.get(x, x))"
   ]
  },
  {
   "cell_type": "code",
   "execution_count": 13,
   "metadata": {},
   "outputs": [],
   "source": [
    "# Select all values orthologous in both columns\n",
    "Ancestor = PBgenes.loc[(PBgenes['PGenes'].str.contains('gene-HOLleu_')) & \n",
    "                       (PBgenes['BGenes'].str.contains('gene-HOLleu_'))]\n",
    "\n",
    "Ancestor = Ancestor.rename(columns = {'Chr' : 'Chromosome',\n",
    "                                      'PGenes' : 'Name', \n",
    "                                      'A' : 'Pchr',\n",
    "                                      'B' : 'Bchr'})\n",
    "Ancestor = Ancestor[['Chromosome', 'Name', 'Pchr', 'Bchr']]\n",
    "Ancestor['Hchr'] = Ancestor.loc[:, 'Name']"
   ]
  },
  {
   "cell_type": "code",
   "execution_count": 14,
   "metadata": {},
   "outputs": [],
   "source": [
    "# Add column with native sea cucumber chromosome\n",
    "Hol = Holleu.to_numpy()\n",
    "orthdictHchr = dict(zip(Hol[:, 3], Hol[:, 0]))\n",
    "Ancestor['Hchr'] = Ancestor['Hchr'].map(lambda x: orthdictHchr.get(x, x))\n",
    "\n",
    "# with pd.option_context('display.max_rows', None, 'display.max_columns', None):  \n",
    "#   print(Ancestor)\n",
    "\n",
    "# Make ancestor BED file\n",
    "Ancestorgenelist = pd.DataFrame()\n",
    "Ancestorgenelist['Chromosome'] = Ancestor.loc[:, 'Chromosome']\n",
    "Ancestorgenelist['Start'] = Holleu.loc[:, 'Start']\n",
    "Ancestorgenelist['End'] = Holleu.loc[:, 'End']\n",
    "Ancestorgenelist['Name'] = Ancestor.loc[:, 'Name']\n",
    "Ancestorgenelist['Dot'] = Holleu.loc[:, 'Dot']\n",
    "\n",
    "np.savetxt(r'Data/Genelists/Ancestor.genelist.bed', Ancestorgenelist.values, fmt = '%s')"
   ]
  }
 ],
 "metadata": {
  "kernelspec": {
   "display_name": "Python 3.9.15 64-bit",
   "language": "python",
   "name": "python3"
  },
  "language_info": {
   "codemirror_mode": {
    "name": "ipython",
    "version": 3
   },
   "file_extension": ".py",
   "mimetype": "text/x-python",
   "name": "python",
   "nbconvert_exporter": "python",
   "pygments_lexer": "ipython3",
   "version": "3.9.15"
  },
  "orig_nbformat": 4,
  "vscode": {
   "interpreter": {
    "hash": "949777d72b0d2535278d3dc13498b2535136f6dfe0678499012e853ee9abcab1"
   }
  }
 },
 "nbformat": 4,
 "nbformat_minor": 2
}
