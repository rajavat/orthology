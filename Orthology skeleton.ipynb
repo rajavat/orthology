{
 "cells": [
  {
   "cell_type": "code",
   "execution_count": 2,
   "metadata": {},
   "outputs": [],
   "source": [
    "# Imports\n",
    "import pandas as pd\n",
    "import numpy as np\n",
    "import scipy.stats as stats\n",
    "import pingouin as pg\n",
    "import matplotlib.pyplot as plt\n",
    "import seaborn as sns\n",
    "\n",
    "# Plot settings\n",
    "plt.rcParams['figure.dpi'] = 300"
   ]
  },
  {
   "cell_type": "markdown",
   "metadata": {},
   "source": [
    "Import data"
   ]
  },
  {
   "cell_type": "code",
   "execution_count": 1,
   "metadata": {},
   "outputs": [
    {
     "ename": "NameError",
     "evalue": "name 'pd' is not defined",
     "output_type": "error",
     "traceback": [
      "\u001b[0;31m---------------------------------------------------------------------------\u001b[0m",
      "\u001b[0;31mNameError\u001b[0m                                 Traceback (most recent call last)",
      "\u001b[1;32m/Users/v/My Drive/Internships/Synteny project/Orthology skeleton.ipynb Cell 3\u001b[0m in \u001b[0;36m<cell line: 6>\u001b[0;34m()\u001b[0m\n\u001b[1;32m      <a href='vscode-notebook-cell:/Users/v/My%20Drive/Internships/Synteny%20project/Orthology%20skeleton.ipynb#ch0000002?line=2'>3</a>\u001b[0m     \u001b[39mfor\u001b[39;00m line \u001b[39min\u001b[39;00m f:\n\u001b[1;32m      <a href='vscode-notebook-cell:/Users/v/My%20Drive/Internships/Synteny%20project/Orthology%20skeleton.ipynb#ch0000002?line=3'>4</a>\u001b[0m         Marthasterias\u001b[39m.\u001b[39mappend(line\u001b[39m.\u001b[39mstrip()\u001b[39m.\u001b[39msplit())\n\u001b[0;32m----> <a href='vscode-notebook-cell:/Users/v/My%20Drive/Internships/Synteny%20project/Orthology%20skeleton.ipynb#ch0000002?line=5'>6</a>\u001b[0m M_data \u001b[39m=\u001b[39m pd\u001b[39m.\u001b[39mDataFrame(Marthasterias,\n\u001b[1;32m      <a href='vscode-notebook-cell:/Users/v/My%20Drive/Internships/Synteny%20project/Orthology%20skeleton.ipynb#ch0000002?line=6'>7</a>\u001b[0m                       columns \u001b[39m=\u001b[39m [\u001b[39m'\u001b[39m\u001b[39mChromosome\u001b[39m\u001b[39m'\u001b[39m, \u001b[39m'\u001b[39m\u001b[39mStart\u001b[39m\u001b[39m'\u001b[39m, \u001b[39m'\u001b[39m\u001b[39mEnd\u001b[39m\u001b[39m'\u001b[39m, \u001b[39m'\u001b[39m\u001b[39mName\u001b[39m\u001b[39m'\u001b[39m, \u001b[39m'\u001b[39m\u001b[39mDot\u001b[39m\u001b[39m'\u001b[39m])\n\u001b[1;32m      <a href='vscode-notebook-cell:/Users/v/My%20Drive/Internships/Synteny%20project/Orthology%20skeleton.ipynb#ch0000002?line=8'>9</a>\u001b[0m Branchiostoma \u001b[39m=\u001b[39m []\n\u001b[1;32m     <a href='vscode-notebook-cell:/Users/v/My%20Drive/Internships/Synteny%20project/Orthology%20skeleton.ipynb#ch0000002?line=9'>10</a>\u001b[0m \u001b[39mwith\u001b[39;00m \u001b[39mopen\u001b[39m (\u001b[39m\"\u001b[39m\u001b[39mData/Branchiostoma.lanceolatum.genelist.bed\u001b[39m\u001b[39m\"\u001b[39m) \u001b[39mas\u001b[39;00m f:\n",
      "\u001b[0;31mNameError\u001b[0m: name 'pd' is not defined"
     ]
    }
   ],
   "source": [
    "Marthasterias = []\n",
    "with open (\"Data/Marthasterias.glacialis.genelist.bed\") as f:\n",
    "    for line in f:\n",
    "        Marthasterias.append(line.strip().split())\n",
    "        \n",
    "M_data = pd.DataFrame(Marthasterias,\n",
    "                      columns = ['Chromosome', 'Start', 'End', 'Name', 'Dot'])\n",
    "\n",
    "Branchiostoma = []\n",
    "with open (\"Data/Branchiostoma.lanceolatum.genelist.bed\") as f:\n",
    "    for line in f:\n",
    "        Branchiostoma.append(line.strip().split())\n",
    "        \n",
    "B_data = pd.DataFrame(Branchiostoma,\n",
    "                      columns = ['Chromosome', 'Start', 'End', 'Name', 'Dot'])\n",
    "\n",
    "MB_orthology = np.loadtxt(\"Data/Marthasterias.glacialis+Branchiostoma.lanceolatum.txt\", dtype = \"str\")"
   ]
  },
  {
   "cell_type": "code",
   "execution_count": 4,
   "metadata": {},
   "outputs": [],
   "source": [
    "# Branchiostoma data: removing non-chromosomal values\n",
    "B_data = B_data.loc[B_data['Chromosome'].str.contains('BFL_')]"
   ]
  },
  {
   "cell_type": "code",
   "execution_count": 6,
   "metadata": {},
   "outputs": [],
   "source": [
    "M_MB_orthdict = dict(zip(MB_orthology[:, 1], MB_orthology[:, 0]))\n",
    "B_MB_orthdict = dict(zip(MB_orthology[:, 2], MB_orthology[:, 0]))"
   ]
  },
  {
   "cell_type": "code",
   "execution_count": 7,
   "metadata": {},
   "outputs": [],
   "source": [
    "M_MB_data = M_data.replace({\"Name\": M_MB_orthdict})\n",
    "B_MB_data = B_data.replace({\"Name\": B_MB_orthdict})"
   ]
  },
  {
   "cell_type": "code",
   "execution_count": 8,
   "metadata": {},
   "outputs": [],
   "source": [
    "M_MB_data[\"Ortholog\"] = M_MB_data[\"Name\"].apply(lambda x:1 if 'ortholog' in x.lower() else 0)\n",
    "B_MB_data[\"Ortholog\"] = B_MB_data[\"Name\"].apply(lambda x:1 if 'ortholog' in x.lower() else 0)"
   ]
  },
  {
   "cell_type": "code",
   "execution_count": 9,
   "metadata": {},
   "outputs": [],
   "source": [
    "M_MB_ortho = M_MB_data.loc[M_MB_data['Ortholog'] == 1]\n",
    "M_MB_dict = dict(zip(M_MB_ortho.Name, M_MB_ortho.Chromosome))\n",
    "\n",
    "B_MB_ortho = B_MB_data.loc[B_MB_data['Ortholog'] == 1]\n",
    "B_MB_dict = dict(zip(B_MB_ortho.Name, B_MB_ortho.Chromosome))"
   ]
  },
  {
   "cell_type": "code",
   "execution_count": 10,
   "metadata": {},
   "outputs": [],
   "source": [
    "MB_Odata = pd.DataFrame({'Orthologs' : MB_orthology[:, 0],\n",
    "                        'M' : MB_orthology[:, 0],\n",
    "                        'B' : MB_orthology[:, 0]})\n",
    "\n",
    "# Replace location in A and H with orthology dictionary keys\n",
    "MB_Odata['M'] = MB_Odata['M'].map(M_MB_dict)\n",
    "MB_Odata['B'] = MB_Odata['B'].map(B_MB_dict)\n",
    "\n",
    "# Calculate number of orthologs for each pair of chromosomes\n",
    "MB_Odata = MB_Odata.groupby(['M', 'B']).count().reset_index()"
   ]
  },
  {
   "cell_type": "code",
   "execution_count": 11,
   "metadata": {},
   "outputs": [],
   "source": [
    "def hypertest(chrA, chrB, dataset, speciesA, speciesB, speciesAortho, speciesBortho):\n",
    "    \"\"\"\n",
    "    inputs:\n",
    "    chrA: species A chromosome name \n",
    "    chrB: species B chromosome name\n",
    "    speciesA: column name in dataset for species A\n",
    "    speciesB: column name in dataset for species B\n",
    "    speciesAortho: orthology data for species A\n",
    "    speciesBortho: orthology data for species B\n",
    "    \"\"\"\n",
    "    \n",
    "    M = len(list(set(dataset.Name.values.tolist()) & set(dataset.Name.values.tolist())))\n",
    "    \n",
    "    nA = dataset.loc[(dataset[speciesA] == chrA), 'Orthologs'].sum()\n",
    "    nB = dataset.loc[(dataset[speciesB] == chrB), 'Orthologs'].sum()\n",
    "    x = dataset.loc[(dataset[speciesA] == chrA) & (dataset[speciesB] == chrB), 'Orthologs'].sum()\n",
    "    \n",
    "    p = stats.hypergeom.sf(x - 1, M, nA, nB)\n",
    "     \n",
    "    return p"
   ]
  },
  {
   "cell_type": "code",
   "execution_count": 13,
   "metadata": {},
   "outputs": [
    {
     "data": {
      "text/html": [
       "<div>\n",
       "<style scoped>\n",
       "    .dataframe tbody tr th:only-of-type {\n",
       "        vertical-align: middle;\n",
       "    }\n",
       "\n",
       "    .dataframe tbody tr th {\n",
       "        vertical-align: top;\n",
       "    }\n",
       "\n",
       "    .dataframe thead th {\n",
       "        text-align: right;\n",
       "    }\n",
       "</style>\n",
       "<table border=\"1\" class=\"dataframe\">\n",
       "  <thead>\n",
       "    <tr style=\"text-align: right;\">\n",
       "      <th></th>\n",
       "      <th>M</th>\n",
       "      <th>B</th>\n",
       "      <th>Orthologs</th>\n",
       "    </tr>\n",
       "  </thead>\n",
       "  <tbody>\n",
       "  </tbody>\n",
       "</table>\n",
       "</div>"
      ],
      "text/plain": [
       "Empty DataFrame\n",
       "Columns: [M, B, Orthologs]\n",
       "Index: []"
      ]
     },
     "execution_count": 13,
     "metadata": {},
     "output_type": "execute_result"
    }
   ],
   "source": [
    "MB_Odata"
   ]
  },
  {
   "cell_type": "code",
   "execution_count": 12,
   "metadata": {},
   "outputs": [
    {
     "ename": "ValueError",
     "evalue": "Expected a 1D array, got an array with shape (0, 3)",
     "output_type": "error",
     "traceback": [
      "\u001b[0;31m---------------------------------------------------------------------------\u001b[0m",
      "\u001b[0;31mKeyError\u001b[0m                                  Traceback (most recent call last)",
      "File \u001b[0;32m/usr/local/lib/python3.9/site-packages/pandas/core/indexes/base.py:3621\u001b[0m, in \u001b[0;36mIndex.get_loc\u001b[0;34m(self, key, method, tolerance)\u001b[0m\n\u001b[1;32m   3620\u001b[0m \u001b[39mtry\u001b[39;00m:\n\u001b[0;32m-> 3621\u001b[0m     \u001b[39mreturn\u001b[39;00m \u001b[39mself\u001b[39;49m\u001b[39m.\u001b[39;49m_engine\u001b[39m.\u001b[39;49mget_loc(casted_key)\n\u001b[1;32m   3622\u001b[0m \u001b[39mexcept\u001b[39;00m \u001b[39mKeyError\u001b[39;00m \u001b[39mas\u001b[39;00m err:\n",
      "File \u001b[0;32m/usr/local/lib/python3.9/site-packages/pandas/_libs/index.pyx:136\u001b[0m, in \u001b[0;36mpandas._libs.index.IndexEngine.get_loc\u001b[0;34m()\u001b[0m\n",
      "File \u001b[0;32m/usr/local/lib/python3.9/site-packages/pandas/_libs/index.pyx:163\u001b[0m, in \u001b[0;36mpandas._libs.index.IndexEngine.get_loc\u001b[0;34m()\u001b[0m\n",
      "File \u001b[0;32mpandas/_libs/hashtable_class_helper.pxi:5198\u001b[0m, in \u001b[0;36mpandas._libs.hashtable.PyObjectHashTable.get_item\u001b[0;34m()\u001b[0m\n",
      "File \u001b[0;32mpandas/_libs/hashtable_class_helper.pxi:5206\u001b[0m, in \u001b[0;36mpandas._libs.hashtable.PyObjectHashTable.get_item\u001b[0;34m()\u001b[0m\n",
      "\u001b[0;31mKeyError\u001b[0m: 'p'",
      "\nThe above exception was the direct cause of the following exception:\n",
      "\u001b[0;31mKeyError\u001b[0m                                  Traceback (most recent call last)",
      "File \u001b[0;32m/usr/local/lib/python3.9/site-packages/pandas/core/frame.py:3799\u001b[0m, in \u001b[0;36mDataFrame._set_item_mgr\u001b[0;34m(self, key, value)\u001b[0m\n\u001b[1;32m   3798\u001b[0m \u001b[39mtry\u001b[39;00m:\n\u001b[0;32m-> 3799\u001b[0m     loc \u001b[39m=\u001b[39m \u001b[39mself\u001b[39;49m\u001b[39m.\u001b[39;49m_info_axis\u001b[39m.\u001b[39;49mget_loc(key)\n\u001b[1;32m   3800\u001b[0m \u001b[39mexcept\u001b[39;00m \u001b[39mKeyError\u001b[39;00m:\n\u001b[1;32m   3801\u001b[0m     \u001b[39m# This item wasn't present, just insert at end\u001b[39;00m\n",
      "File \u001b[0;32m/usr/local/lib/python3.9/site-packages/pandas/core/indexes/base.py:3623\u001b[0m, in \u001b[0;36mIndex.get_loc\u001b[0;34m(self, key, method, tolerance)\u001b[0m\n\u001b[1;32m   3622\u001b[0m \u001b[39mexcept\u001b[39;00m \u001b[39mKeyError\u001b[39;00m \u001b[39mas\u001b[39;00m err:\n\u001b[0;32m-> 3623\u001b[0m     \u001b[39mraise\u001b[39;00m \u001b[39mKeyError\u001b[39;00m(key) \u001b[39mfrom\u001b[39;00m \u001b[39merr\u001b[39;00m\n\u001b[1;32m   3624\u001b[0m \u001b[39mexcept\u001b[39;00m \u001b[39mTypeError\u001b[39;00m:\n\u001b[1;32m   3625\u001b[0m     \u001b[39m# If we have a listlike key, _check_indexing_error will raise\u001b[39;00m\n\u001b[1;32m   3626\u001b[0m     \u001b[39m#  InvalidIndexError. Otherwise we fall through and re-raise\u001b[39;00m\n\u001b[1;32m   3627\u001b[0m     \u001b[39m#  the TypeError.\u001b[39;00m\n",
      "\u001b[0;31mKeyError\u001b[0m: 'p'",
      "\nDuring handling of the above exception, another exception occurred:\n",
      "\u001b[0;31mValueError\u001b[0m                                Traceback (most recent call last)",
      "\u001b[1;32m/Users/v/My Drive/Internships/Marletaz lab/Synteny project/Orthology skeleton.ipynb Cell 11\u001b[0m in \u001b[0;36m<cell line: 2>\u001b[0;34m()\u001b[0m\n\u001b[1;32m      <a href='vscode-notebook-cell:/Users/v/My%20Drive/Internships/Marletaz%20lab/Synteny%20project/Orthology%20skeleton.ipynb#ch0000012?line=0'>1</a>\u001b[0m \u001b[39m# MB\u001b[39;00m\n\u001b[0;32m----> <a href='vscode-notebook-cell:/Users/v/My%20Drive/Internships/Marletaz%20lab/Synteny%20project/Orthology%20skeleton.ipynb#ch0000012?line=1'>2</a>\u001b[0m MB_Odata[\u001b[39m'\u001b[39;49m\u001b[39mp\u001b[39;49m\u001b[39m'\u001b[39;49m] \u001b[39m=\u001b[39m MB_Odata\u001b[39m.\u001b[39mapply(\u001b[39mlambda\u001b[39;00m x: hypertest(x[\u001b[39m'\u001b[39m\u001b[39mM\u001b[39m\u001b[39m'\u001b[39m], x[\u001b[39m'\u001b[39m\u001b[39mB\u001b[39m\u001b[39m'\u001b[39m], dataset \u001b[39m=\u001b[39m MB_Odata, \n\u001b[1;32m      <a href='vscode-notebook-cell:/Users/v/My%20Drive/Internships/Marletaz%20lab/Synteny%20project/Orthology%20skeleton.ipynb#ch0000012?line=2'>3</a>\u001b[0m                                                    speciesA \u001b[39m=\u001b[39m \u001b[39m'\u001b[39m\u001b[39mM\u001b[39m\u001b[39m'\u001b[39m, speciesB \u001b[39m=\u001b[39m \u001b[39m'\u001b[39m\u001b[39mB\u001b[39m\u001b[39m'\u001b[39m,\n\u001b[1;32m      <a href='vscode-notebook-cell:/Users/v/My%20Drive/Internships/Marletaz%20lab/Synteny%20project/Orthology%20skeleton.ipynb#ch0000012?line=3'>4</a>\u001b[0m                                                    speciesAortho \u001b[39m=\u001b[39m \u001b[39m'\u001b[39m\u001b[39mM_MB_data\u001b[39m\u001b[39m'\u001b[39m, speciesBortho \u001b[39m=\u001b[39m \u001b[39m'\u001b[39m\u001b[39mB_MB_data\u001b[39m\u001b[39m'\u001b[39m), axis \u001b[39m=\u001b[39m \u001b[39m1\u001b[39m)\n\u001b[1;32m      <a href='vscode-notebook-cell:/Users/v/My%20Drive/Internships/Marletaz%20lab/Synteny%20project/Orthology%20skeleton.ipynb#ch0000012?line=5'>6</a>\u001b[0m \u001b[39m# Apply BH testing correction\u001b[39;00m\n\u001b[1;32m      <a href='vscode-notebook-cell:/Users/v/My%20Drive/Internships/Marletaz%20lab/Synteny%20project/Orthology%20skeleton.ipynb#ch0000012?line=6'>7</a>\u001b[0m MB_Odata[\u001b[39m'\u001b[39m\u001b[39mresult\u001b[39m\u001b[39m'\u001b[39m], MB_Odata[\u001b[39m'\u001b[39m\u001b[39mp\u001b[39m\u001b[39m'\u001b[39m] \u001b[39m=\u001b[39m pg\u001b[39m.\u001b[39mmulticomp(MB_Odata[\u001b[39m'\u001b[39m\u001b[39mp\u001b[39m\u001b[39m'\u001b[39m], method \u001b[39m=\u001b[39m \u001b[39m'\u001b[39m\u001b[39mfdr_bh\u001b[39m\u001b[39m'\u001b[39m) \n",
      "File \u001b[0;32m/usr/local/lib/python3.9/site-packages/pandas/core/frame.py:3645\u001b[0m, in \u001b[0;36mDataFrame.__setitem__\u001b[0;34m(self, key, value)\u001b[0m\n\u001b[1;32m   3643\u001b[0m     \u001b[39mself\u001b[39m\u001b[39m.\u001b[39m_setitem_array(key, value)\n\u001b[1;32m   3644\u001b[0m \u001b[39melif\u001b[39;00m \u001b[39misinstance\u001b[39m(value, DataFrame):\n\u001b[0;32m-> 3645\u001b[0m     \u001b[39mself\u001b[39;49m\u001b[39m.\u001b[39;49m_set_item_frame_value(key, value)\n\u001b[1;32m   3646\u001b[0m \u001b[39melif\u001b[39;00m (\n\u001b[1;32m   3647\u001b[0m     is_list_like(value)\n\u001b[1;32m   3648\u001b[0m     \u001b[39mand\u001b[39;00m \u001b[39mnot\u001b[39;00m \u001b[39mself\u001b[39m\u001b[39m.\u001b[39mcolumns\u001b[39m.\u001b[39mis_unique\n\u001b[1;32m   3649\u001b[0m     \u001b[39mand\u001b[39;00m \u001b[39m1\u001b[39m \u001b[39m<\u001b[39m \u001b[39mlen\u001b[39m(\u001b[39mself\u001b[39m\u001b[39m.\u001b[39mcolumns\u001b[39m.\u001b[39mget_indexer_for([key])) \u001b[39m==\u001b[39m \u001b[39mlen\u001b[39m(value)\n\u001b[1;32m   3650\u001b[0m ):\n\u001b[1;32m   3651\u001b[0m     \u001b[39m# Column to set is duplicated\u001b[39;00m\n\u001b[1;32m   3652\u001b[0m     \u001b[39mself\u001b[39m\u001b[39m.\u001b[39m_setitem_array([key], value)\n",
      "File \u001b[0;32m/usr/local/lib/python3.9/site-packages/pandas/core/frame.py:3788\u001b[0m, in \u001b[0;36mDataFrame._set_item_frame_value\u001b[0;34m(self, key, value)\u001b[0m\n\u001b[1;32m   3786\u001b[0m \u001b[39m# now align rows\u001b[39;00m\n\u001b[1;32m   3787\u001b[0m arraylike \u001b[39m=\u001b[39m _reindex_for_setitem(value, \u001b[39mself\u001b[39m\u001b[39m.\u001b[39mindex)\n\u001b[0;32m-> 3788\u001b[0m \u001b[39mself\u001b[39;49m\u001b[39m.\u001b[39;49m_set_item_mgr(key, arraylike)\n",
      "File \u001b[0;32m/usr/local/lib/python3.9/site-packages/pandas/core/frame.py:3802\u001b[0m, in \u001b[0;36mDataFrame._set_item_mgr\u001b[0;34m(self, key, value)\u001b[0m\n\u001b[1;32m   3799\u001b[0m     loc \u001b[39m=\u001b[39m \u001b[39mself\u001b[39m\u001b[39m.\u001b[39m_info_axis\u001b[39m.\u001b[39mget_loc(key)\n\u001b[1;32m   3800\u001b[0m \u001b[39mexcept\u001b[39;00m \u001b[39mKeyError\u001b[39;00m:\n\u001b[1;32m   3801\u001b[0m     \u001b[39m# This item wasn't present, just insert at end\u001b[39;00m\n\u001b[0;32m-> 3802\u001b[0m     \u001b[39mself\u001b[39;49m\u001b[39m.\u001b[39;49m_mgr\u001b[39m.\u001b[39;49minsert(\u001b[39mlen\u001b[39;49m(\u001b[39mself\u001b[39;49m\u001b[39m.\u001b[39;49m_info_axis), key, value)\n\u001b[1;32m   3803\u001b[0m \u001b[39melse\u001b[39;00m:\n\u001b[1;32m   3804\u001b[0m     \u001b[39mself\u001b[39m\u001b[39m.\u001b[39m_iset_item_mgr(loc, value)\n",
      "File \u001b[0;32m/usr/local/lib/python3.9/site-packages/pandas/core/internals/managers.py:1235\u001b[0m, in \u001b[0;36mBlockManager.insert\u001b[0;34m(self, loc, item, value)\u001b[0m\n\u001b[1;32m   1233\u001b[0m     value \u001b[39m=\u001b[39m value\u001b[39m.\u001b[39mT\n\u001b[1;32m   1234\u001b[0m     \u001b[39mif\u001b[39;00m \u001b[39mlen\u001b[39m(value) \u001b[39m>\u001b[39m \u001b[39m1\u001b[39m:\n\u001b[0;32m-> 1235\u001b[0m         \u001b[39mraise\u001b[39;00m \u001b[39mValueError\u001b[39;00m(\n\u001b[1;32m   1236\u001b[0m             \u001b[39mf\u001b[39m\u001b[39m\"\u001b[39m\u001b[39mExpected a 1D array, got an array with shape \u001b[39m\u001b[39m{\u001b[39;00mvalue\u001b[39m.\u001b[39mT\u001b[39m.\u001b[39mshape\u001b[39m}\u001b[39;00m\u001b[39m\"\u001b[39m\n\u001b[1;32m   1237\u001b[0m         )\n\u001b[1;32m   1238\u001b[0m \u001b[39melse\u001b[39;00m:\n\u001b[1;32m   1239\u001b[0m     value \u001b[39m=\u001b[39m ensure_block_shape(value, ndim\u001b[39m=\u001b[39m\u001b[39mself\u001b[39m\u001b[39m.\u001b[39mndim)\n",
      "\u001b[0;31mValueError\u001b[0m: Expected a 1D array, got an array with shape (0, 3)"
     ]
    }
   ],
   "source": [
    "# MB\n",
    "MB_Odata['p'] = MB_Odata.apply(lambda x: hypertest(x['M'], x['B'], dataset = MB_Odata, \n",
    "                                                   speciesA = 'M', speciesB = 'B',\n",
    "                                                   speciesAortho = 'M_MB_data', speciesBortho = 'B_MB_data'), axis = 1)\n",
    "\n",
    "# Apply BH testing correction\n",
    "MB_Odata['result'], MB_Odata['p'] = pg.multicomp(MB_Odata['p'], method = 'fdr_bh') \n",
    "\n",
    "# Remove all rows that have been rejected in BH correction\n",
    "MB_cOdata = MB_Odata.loc[MB_Odata[\"result\"] == True]"
   ]
  },
  {
   "cell_type": "code",
   "execution_count": null,
   "metadata": {},
   "outputs": [],
   "source": []
  }
 ],
 "metadata": {
  "kernelspec": {
   "display_name": "Python 3.9.15 64-bit",
   "language": "python",
   "name": "python3"
  },
  "language_info": {
   "codemirror_mode": {
    "name": "ipython",
    "version": 3
   },
   "file_extension": ".py",
   "mimetype": "text/x-python",
   "name": "python",
   "nbconvert_exporter": "python",
   "pygments_lexer": "ipython3",
   "version": "3.9.15"
  },
  "orig_nbformat": 4,
  "vscode": {
   "interpreter": {
    "hash": "949777d72b0d2535278d3dc13498b2535136f6dfe0678499012e853ee9abcab1"
   }
  }
 },
 "nbformat": 4,
 "nbformat_minor": 2
}
