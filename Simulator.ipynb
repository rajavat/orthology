{
 "cells": [
  {
   "cell_type": "code",
   "execution_count": 61,
   "metadata": {},
   "outputs": [],
   "source": [
    "import numpy as np\n",
    "import pandas as pd\n",
    "import argparse\n",
    "import os\n",
    "\n",
    "import random\n",
    "from random import randrange\n",
    "\n",
    "import warnings\n",
    "warnings.simplefilter(action='ignore', category=FutureWarning)\n",
    "\n",
    "# Disable chained assignments\n",
    "pd.options.mode.chained_assignment = None "
   ]
  },
  {
   "cell_type": "code",
   "execution_count": 62,
   "metadata": {},
   "outputs": [],
   "source": [
    "def makeancestor(Nchr, Ngene):\n",
    "    ancestor = pd.DataFrame(columns = ['Chr'])\n",
    "    chrNames = ['AncChr' + str (i + 1) for i in range(Nchr)]\n",
    "    for i in range(Nchr):\n",
    "        row = {'Chr' : (i + 1)}\n",
    "        for i in range(Ngenes):\n",
    "                ancestor = ancestor.append(row, ignore_index = True)\n",
    "    ancestor['Genes'] = (ancestor.reset_index().index + 1)\n",
    "    # ancestor['Genes'] = 'g_' + ancestor['Genes'].astype(str)\n",
    "\n",
    "    return ancestor"
   ]
  },
  {
   "cell_type": "code",
   "execution_count": 63,
   "metadata": {},
   "outputs": [],
   "source": [
    "def dummyBED(genome, type, outfile):\n",
    "    if type == 'anc':\n",
    "        genome['Chr'] = 'AncChr' + genome['Chr'].astype(str)\n",
    "        genome['Genes'] = 'ancg_' + genome['Genes'].astype(str)\n",
    "        \n",
    "    if type == 'des':\n",
    "        genome['Chr'] = 'Chr' + genome['Chr'].astype(str)\n",
    "        genome['Genes'] = 'g_' + genome['Genes'].astype(str)\n",
    "    \n",
    "    genome['Start'] = np.arange(len(genome))\n",
    "    genome['End'] = np.arange(len(genome)) + 5\n",
    "    \n",
    "    genome = genome[['Chr', 'Start', 'End', 'Genes']]\n",
    "    \n",
    "    with open(outfile, 'w') as out:\n",
    "        out.write(genome.to_string(header = False, index = False))\n",
    "        \n",
    "    return genome"
   ]
  },
  {
   "cell_type": "code",
   "execution_count": 64,
   "metadata": {},
   "outputs": [],
   "source": [
    "def dummyOrthologs(genome, outfile):\n",
    "    \n",
    "    orthologs = pd.DataFrame()\n",
    "    \n",
    "    orthologs['Orthologs'] = np.arange(len(genome)) + 1\n",
    "    orthologs['speciesA'] = np.arange(len(genome)) + 1\n",
    "    orthologs['speciesB'] = np.arange(len(genome)) + 1\n",
    "    \n",
    "    orthologs['Orthologs'] = 'orthologs_' + orthologs['Orthologs'].astype(str)\n",
    "    orthologs['speciesA'] = 'ancg_' + orthologs['speciesA'].astype(str)\n",
    "    orthologs['speciesB'] = 'g_' + orthologs['speciesB'].astype(str)\n",
    "    \n",
    "    with open(outfile, 'w') as out:\n",
    "        out.write(dummyOrthologs.to_string(header = False, index = False))\n",
    "        \n",
    "    return dummyOrthologs"
   ]
  },
  {
   "cell_type": "code",
   "execution_count": 65,
   "metadata": {},
   "outputs": [],
   "source": [
    "def fusion(ancestor, mixing = 0):\n",
    "    '''\n",
    "    inputs: \n",
    "    ancestor : df with chromosome name | gene name\n",
    "    mixing : float between 0 and 1, where 1 implies extreme mixing and 0 implies no mixing\n",
    "    '''\n",
    "    \n",
    "    # Randomly select two chromosomes to fuse\n",
    "    fuse1 = random.choice(range(len(ancestor.Chr.unique())))\n",
    "    fuse2 = random.choice(range(len(ancestor.Chr.unique())))\n",
    "\n",
    "    # Fuse the chromosomes\n",
    "    fusion = ancestor.loc[ancestor['Chr'].isin([fuse1, fuse2])]\n",
    "    fusion['Chr'] = f'{fuse1}+{fuse2}'\n",
    "    \n",
    "    # Apply mixing if required\n",
    "    if mixing > 0:\n",
    "        genes = fusion['Genes'].to_numpy()\n",
    "        n = len(genes)\n",
    "        for i in range(int(mixing * n)):\n",
    "            g1, g2 = randrange(n), randrange(n)\n",
    "            genes[g2], genes[g1] = genes[g1], genes[g2]\n",
    "\n",
    "        fusion['Genes'] = genes\n",
    "        fusion['Chr'] = f'{fuse1}x{fuse2}'\n",
    "\n",
    "    # Add the fused chromosome back into the genome\n",
    "    speciesA = ancestor.append([ancestor, fusion])\n",
    "    \n",
    "    # Remove the unfused chromosomes\n",
    "    speciesA.drop(speciesA[speciesA['Chr'].isin([fuse1, fuse2])].index, inplace = True)\n",
    "    \n",
    "    log = f'Fusion of {fuse1} and {fuse2} into {fuse1}+{fuse2}'\n",
    "    \n",
    "    return log"
   ]
  },
  {
   "cell_type": "code",
   "execution_count": 66,
   "metadata": {},
   "outputs": [],
   "source": [
    "def fission(ancestor):\n",
    "    # Randomly select a chromosome for fission\n",
    "    fiss = random.choice(range(len(ancestor.Chr.unique())))\n",
    "    fission = ancestor.loc[ancestor['Chr'] == fiss]\n",
    "\n",
    "    # Randomly select a fission position and apply fission\n",
    "    n = len(fission['Chr'])\n",
    "\n",
    "    pos = random.choice(range(1, n))\n",
    "    genes = fission['Genes'].to_numpy()\n",
    "\n",
    "    # Add the new chromosomes back into the genome\n",
    "    chr1 = pd.DataFrame({'Chr': [f'{fiss}_1'] * len(genes[:pos]),\n",
    "                        'Genes': genes[:pos]})\n",
    "    chr2 = pd.DataFrame({'Chr': [f'{fiss}_2'] * len(genes[pos:]),\n",
    "                       'Genes': genes[pos:]})\n",
    "\n",
    "    speciesA = ancestor.append([chr1, chr2])\n",
    "    \n",
    "    # Remove the fission chromosome from the genome\n",
    "    speciesA.drop(ancestor[ancestor['Chr'] == fiss].index, inplace = True)\n",
    "    \n",
    "    log = f'Fission{fiss} into {fiss}_1 and {fiss}_2'\n",
    "    \n",
    "    return log"
   ]
  },
  {
   "cell_type": "code",
   "execution_count": 67,
   "metadata": {},
   "outputs": [
    {
     "name": "stderr",
     "output_type": "stream",
     "text": [
      "usage: ipykernel_launcher.py [-h] [-c NCHR] [-g NGENE] [-n NEVENTS]\n",
      "                             [-p OUT_PREFIX]\n",
      "ipykernel_launcher.py: error: unrecognized arguments: --ip=127.0.0.1 --stdin=9013 --control=9011 --hb=9010 --Session.signature_scheme=\"hmac-sha256\" --Session.key=b\"67ce2b5f-082f-4b3f-9981-5edeb1062797\" --shell=9012 --transport=\"tcp\" --iopub=9014 --f=/Users/v/Library/Jupyter/runtime/kernel-v2-17077cPc2Pr4zG20Y.json\n"
     ]
    },
    {
     "ename": "SystemExit",
     "evalue": "2",
     "output_type": "error",
     "traceback": [
      "An exception has occurred, use %tb to see the full traceback.\n",
      "\u001b[0;31mSystemExit\u001b[0m\u001b[0;31m:\u001b[0m 2\n"
     ]
    },
    {
     "name": "stderr",
     "output_type": "stream",
     "text": [
      "/usr/local/lib/python3.9/site-packages/IPython/core/interactiveshell.py:3406: UserWarning: To exit: use 'exit', 'quit', or Ctrl-D.\n",
      "  warn(\"To exit: use 'exit', 'quit', or Ctrl-D.\", stacklevel=1)\n"
     ]
    }
   ],
   "source": [
    "if __name__ == '__main__':\n",
    "    parser = argparse.ArgumentParser(description = __doc__,\n",
    "                                     formatter_class = argparse.RawDescriptionHelpFormatter)\n",
    "    parser.add_argument('-c', '--Nchr', type = int, \n",
    "                        required = False, default = 20,\n",
    "                        help = 'Number of chromosome in the ancestor')\n",
    "    parser.add_argument('-g', '--Ngene', type = int, \n",
    "                        required = False, default = 100,\n",
    "                        help = \"Number of genes on each chromosome\")\n",
    "    parser.add_argument('-n', '--Nevents', type = int, \n",
    "                        required = False, default = 10,\n",
    "                        help = \"Number of macro-syntetic rearrangement events\")\n",
    "    parser.add_argument('-p', \"--out_prefix\", type=str, \n",
    "                        required=False, default='Simulations/')\n",
    "    args = vars(parser.parse_args())\n",
    "    \n",
    "    Nchr = args['Nchr']\n",
    "    Ngene = args['Ngene']\n",
    "\n",
    "# Create output folder\n",
    "if '/' in args['out_prefix']:\n",
    "    folder = '/'.join(args['out_prefix'].split('/')[:-1])\n",
    "    os.makedirs(folder, exist_ok = True)\n",
    "    \n",
    "ancestor = makeancestor(Nchr, Ngene)\n",
    "outfile = args['out_prefix'] + 'Ancestor.genelist.bed'\n",
    "dummyBED(ancestor, 'a', outfile)\n",
    "outfile = args['out_prefix'] + 'Ancestor+SpeciesA.txt'\n",
    "dummyOrthologs(ancestor, outfile)\n",
    "\n",
    "# Apply macro-rearrangements to the ancestor\n",
    "events = {}\n",
    "for event in range(args['Nevents']):\n",
    "    r = np.random.uniform()\n",
    "    \n",
    "    if r <= 0.48:\n",
    "        if len(ancestor < 2): continue\n",
    "        event_log = fission(ancestor)\n",
    "        events['EVENT_' + str(event + 1)] = event_log\n",
    "        print(event_log)\n",
    "    \n",
    "    elif r <= 0.81:\n",
    "        event_log = fission(ancestor)\n",
    "        events['EVENT_' + str(event + 1)] = event_log\n",
    "        print(event_log)\n",
    "    \n",
    "    elif r <= 0.94:\n",
    "        event_log = fusion(ancestor, mixing = 0.5)\n",
    "        events['EVENT_' + str(event + 1)] = event_log\n",
    "        print(event_log)\n",
    "        \n",
    "    else:\n",
    "        print('Synteny loss: skipping for now...')\n",
    "        # Need to implement the synteny loss (and we could also have a WGD event)\n",
    "        continue"
   ]
  }
 ],
 "metadata": {
  "kernelspec": {
   "display_name": "Python 3.9.15 64-bit",
   "language": "python",
   "name": "python3"
  },
  "language_info": {
   "codemirror_mode": {
    "name": "ipython",
    "version": 3
   },
   "file_extension": ".py",
   "mimetype": "text/x-python",
   "name": "python",
   "nbconvert_exporter": "python",
   "pygments_lexer": "ipython3",
   "version": "3.9.15"
  },
  "orig_nbformat": 4,
  "vscode": {
   "interpreter": {
    "hash": "949777d72b0d2535278d3dc13498b2535136f6dfe0678499012e853ee9abcab1"
   }
  }
 },
 "nbformat": 4,
 "nbformat_minor": 2
}
