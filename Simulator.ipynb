{
 "cells": [
  {
   "cell_type": "code",
   "execution_count": 17,
   "metadata": {},
   "outputs": [],
   "source": [
    "import numpy as np\n",
    "import pandas as pd\n",
    "\n",
    "import random\n",
    "from random import randrange\n",
    "\n",
    "import warnings\n",
    "warnings.simplefilter(action='ignore', category=FutureWarning)\n",
    "\n",
    "# Disable chained assignments\n",
    "pd.options.mode.chained_assignment = None "
   ]
  },
  {
   "cell_type": "code",
   "execution_count": 8,
   "metadata": {},
   "outputs": [],
   "source": [
    "def makeancestor(Nchr = 22, Ngenes = 100):\n",
    "    ancestor = pd.DataFrame(columns = ['Chr'])\n",
    "    chrNames = ['AncChr' + str (i + 1) for i in range(Nchr)]\n",
    "    for i in range(Nchr):\n",
    "        row = {'Chr' : (i + 1)}\n",
    "        for i in range(Ngenes):\n",
    "                ancestor = ancestor.append(row, ignore_index = True)\n",
    "    ancestor['Genes'] = (ancestor.reset_index().index + 1)\n",
    "    # ancestor['Genes'] = 'g_' + ancestor['Genes'].astype(str)\n",
    "\n",
    "    return ancestor\n",
    "\n",
    "ancestor = makeancestor()"
   ]
  },
  {
   "cell_type": "markdown",
   "metadata": {},
   "source": [
    "Fix mixing"
   ]
  },
  {
   "cell_type": "code",
   "execution_count": 28,
   "metadata": {},
   "outputs": [],
   "source": [
    "def fusion(ancestor, mixing = 0):\n",
    "    '''\n",
    "    inputs: \n",
    "    ancestor : df with chromosome name | gene name\n",
    "    mixing : float between 0 and 1, where 1 implies extreme mixing and 0 implies no mixing\n",
    "    '''\n",
    "    \n",
    "    def mix(fusion, mixing = 0): # Takes a chromosome and mixes the genes\n",
    "        n = len(fusion.Genes)\n",
    "        for i in range(int(mixing * n)):\n",
    "            g1, g2 = randrange(n), randrange(n)\n",
    "            fusion[g2], fusion[g1] = fusion[g1], fusion[g2]\n",
    "        \n",
    "        return fusion\n",
    "    \n",
    "    # Randomly select two chromosomes to fuse\n",
    "    fuse1 = random.choice(range(len(ancestor.Chr.unique())))\n",
    "    fuse2 = random.choice(range(len(ancestor.Chr.unique())))\n",
    "\n",
    "    # Fuse the chromosomes\n",
    "    fusion = ancestor.loc[ancestor['Chr'].isin([fuse1, fuse2])]\n",
    "    fusion['Chr'] = f'{fuse1}+{fuse2}'\n",
    "\n",
    "    # Remove the unfused chromosomes\n",
    "    ancestor.drop(ancestor[ancestor['Chr'].isin([fuse1, fuse2])].index, inplace = True)\n",
    "\n",
    "    # Add the fused chromosome back into the genome\n",
    "    ancestor = ancestor.append([ancestor, fusion])\n",
    "    \n",
    "    return ancestor"
   ]
  }
 ],
 "metadata": {
  "kernelspec": {
   "display_name": "Python 3.9.15 64-bit",
   "language": "python",
   "name": "python3"
  },
  "language_info": {
   "codemirror_mode": {
    "name": "ipython",
    "version": 3
   },
   "file_extension": ".py",
   "mimetype": "text/x-python",
   "name": "python",
   "nbconvert_exporter": "python",
   "pygments_lexer": "ipython3",
   "version": "3.9.15"
  },
  "orig_nbformat": 4,
  "vscode": {
   "interpreter": {
    "hash": "949777d72b0d2535278d3dc13498b2535136f6dfe0678499012e853ee9abcab1"
   }
  }
 },
 "nbformat": 4,
 "nbformat_minor": 2
}
