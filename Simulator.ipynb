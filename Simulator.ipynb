{
 "cells": [
  {
   "cell_type": "code",
   "execution_count": 17,
   "metadata": {},
   "outputs": [],
   "source": [
    "import numpy as np\n",
    "import pandas as pd\n",
    "\n",
    "import random\n",
    "from random import randrange\n",
    "\n",
    "import warnings\n",
    "warnings.simplefilter(action='ignore', category=FutureWarning)\n",
    "\n",
    "# Disable chained assignments\n",
    "pd.options.mode.chained_assignment = None "
   ]
  },
  {
   "cell_type": "code",
   "execution_count": 8,
   "metadata": {},
   "outputs": [],
   "source": [
    "def makeancestor(Nchr = 22, Ngenes = 100):\n",
    "    ancestor = pd.DataFrame(columns = ['Chr'])\n",
    "    chrNames = ['AncChr' + str (i + 1) for i in range(Nchr)]\n",
    "    for i in range(Nchr):\n",
    "        row = {'Chr' : (i + 1)}\n",
    "        for i in range(Ngenes):\n",
    "                ancestor = ancestor.append(row, ignore_index = True)\n",
    "    ancestor['Genes'] = (ancestor.reset_index().index + 1)\n",
    "    # ancestor['Genes'] = 'g_' + ancestor['Genes'].astype(str)\n",
    "\n",
    "    return ancestor\n",
    "\n",
    "ancestor = makeancestor()"
   ]
  },
  {
   "cell_type": "code",
   "execution_count": 22,
   "metadata": {},
   "outputs": [],
   "source": [
    "def fusion(ancestor, mixing = 0):\n",
    "    '''\n",
    "    inputs: \n",
    "    ancestor : df with chromosome name | gene name\n",
    "    mixing : float between 0 and 1, where 1 implies extreme mixing and 0 implies no mixing\n",
    "    '''\n",
    "    \n",
    "    def mix(fusion, mixing = 0): # Takes a chromosome and mixes the genes\n",
    "        n = len(fusion.Genes)\n",
    "        for i in range(int(mixing * n)):\n",
    "            g1, g2 = randrange(n), randrange(n)\n",
    "            fusion[g2], fusion[g1] = fusion[g1], fusion[g2]\n",
    "        \n",
    "        return fusion\n",
    "    \n",
    "    # Randomly select two chromosomes to fuse\n",
    "    fuse1 = random.choice(range(len(ancestor.Chr.unique())))\n",
    "    fuse2 = random.choice(range(len(ancestor.Chr.unique())))\n",
    "\n",
    "    # Fuse the chromosomes\n",
    "    fusion = ancestor.loc[ancestor['Chr'].isin([fuse1, fuse2])]\n",
    "    fusion['Chr'] = f'{fuse1}+{fuse2}'\n",
    "    \n",
    "    # Apply mixing if required\n",
    "    if float(mixing) > 0:\n",
    "        fusion = mix(fusion, mixing)\n",
    "        fusion['Chr'] = f'{fuse1}x{fuse2}'\n",
    "\n",
    "    # Remove the unfused chromosomes\n",
    "    ancestor.drop(ancestor[ancestor['Chr'].isin([fuse1, fuse2])].index, inplace = True)\n",
    "\n",
    "    # Add the fused chromosome back into the genome\n",
    "    ancestor = ancestor.append([ancestor, fusion])"
   ]
  },
  {
   "cell_type": "code",
   "execution_count": 25,
   "metadata": {},
   "outputs": [
    {
     "ename": "KeyError",
     "evalue": "1446",
     "output_type": "error",
     "traceback": [
      "\u001b[0;31m---------------------------------------------------------------------------\u001b[0m",
      "\u001b[0;31mKeyError\u001b[0m                                  Traceback (most recent call last)",
      "File \u001b[0;32m/usr/local/lib/python3.9/site-packages/pandas/core/indexes/base.py:3621\u001b[0m, in \u001b[0;36mIndex.get_loc\u001b[0;34m(self, key, method, tolerance)\u001b[0m\n\u001b[1;32m   3620\u001b[0m \u001b[39mtry\u001b[39;00m:\n\u001b[0;32m-> 3621\u001b[0m     \u001b[39mreturn\u001b[39;00m \u001b[39mself\u001b[39;49m\u001b[39m.\u001b[39;49m_engine\u001b[39m.\u001b[39;49mget_loc(casted_key)\n\u001b[1;32m   3622\u001b[0m \u001b[39mexcept\u001b[39;00m \u001b[39mKeyError\u001b[39;00m \u001b[39mas\u001b[39;00m err:\n",
      "File \u001b[0;32m/usr/local/lib/python3.9/site-packages/pandas/_libs/index.pyx:136\u001b[0m, in \u001b[0;36mpandas._libs.index.IndexEngine.get_loc\u001b[0;34m()\u001b[0m\n",
      "File \u001b[0;32m/usr/local/lib/python3.9/site-packages/pandas/_libs/index.pyx:163\u001b[0m, in \u001b[0;36mpandas._libs.index.IndexEngine.get_loc\u001b[0;34m()\u001b[0m\n",
      "File \u001b[0;32mpandas/_libs/hashtable_class_helper.pxi:5198\u001b[0m, in \u001b[0;36mpandas._libs.hashtable.PyObjectHashTable.get_item\u001b[0;34m()\u001b[0m\n",
      "File \u001b[0;32mpandas/_libs/hashtable_class_helper.pxi:5206\u001b[0m, in \u001b[0;36mpandas._libs.hashtable.PyObjectHashTable.get_item\u001b[0;34m()\u001b[0m\n",
      "\u001b[0;31mKeyError\u001b[0m: 1446",
      "\nThe above exception was the direct cause of the following exception:\n",
      "\u001b[0;31mKeyError\u001b[0m                                  Traceback (most recent call last)",
      "\u001b[1;32m/Users/v/My Drive/Internships/Internship/Simulator.ipynb Cell 4\u001b[0m in \u001b[0;36m<cell line: 1>\u001b[0;34m()\u001b[0m\n\u001b[0;32m----> <a href='vscode-notebook-cell:/Users/v/My%20Drive/Internships/Internship/Simulator.ipynb#ch0000008?line=0'>1</a>\u001b[0m fusion(ancestor, mixing \u001b[39m=\u001b[39;49m \u001b[39m1\u001b[39;49m)\n",
      "\u001b[1;32m/Users/v/My Drive/Internships/Internship/Simulator.ipynb Cell 4\u001b[0m in \u001b[0;36mfusion\u001b[0;34m(ancestor, mixing)\u001b[0m\n\u001b[1;32m     <a href='vscode-notebook-cell:/Users/v/My%20Drive/Internships/Internship/Simulator.ipynb#ch0000008?line=23'>24</a>\u001b[0m \u001b[39m# Apply mixing if required\u001b[39;00m\n\u001b[1;32m     <a href='vscode-notebook-cell:/Users/v/My%20Drive/Internships/Internship/Simulator.ipynb#ch0000008?line=24'>25</a>\u001b[0m \u001b[39mif\u001b[39;00m \u001b[39mfloat\u001b[39m(mixing) \u001b[39m>\u001b[39m \u001b[39m0\u001b[39m:\n\u001b[0;32m---> <a href='vscode-notebook-cell:/Users/v/My%20Drive/Internships/Internship/Simulator.ipynb#ch0000008?line=25'>26</a>\u001b[0m     fusion \u001b[39m=\u001b[39m mix(fusion, mixing)\n\u001b[1;32m     <a href='vscode-notebook-cell:/Users/v/My%20Drive/Internships/Internship/Simulator.ipynb#ch0000008?line=26'>27</a>\u001b[0m     fusion[\u001b[39m'\u001b[39m\u001b[39mChr\u001b[39m\u001b[39m'\u001b[39m] \u001b[39m=\u001b[39m \u001b[39mf\u001b[39m\u001b[39m'\u001b[39m\u001b[39m{\u001b[39;00mfuse1\u001b[39m}\u001b[39;00m\u001b[39mx\u001b[39m\u001b[39m{\u001b[39;00mfuse2\u001b[39m}\u001b[39;00m\u001b[39m'\u001b[39m\n\u001b[1;32m     <a href='vscode-notebook-cell:/Users/v/My%20Drive/Internships/Internship/Simulator.ipynb#ch0000008?line=28'>29</a>\u001b[0m \u001b[39m# Remove the unfused chromosomes\u001b[39;00m\n",
      "\u001b[1;32m/Users/v/My Drive/Internships/Internship/Simulator.ipynb Cell 4\u001b[0m in \u001b[0;36mfusion.<locals>.mix\u001b[0;34m(fusion, mixing)\u001b[0m\n\u001b[1;32m     <a href='vscode-notebook-cell:/Users/v/My%20Drive/Internships/Internship/Simulator.ipynb#ch0000008?line=9'>10</a>\u001b[0m \u001b[39mfor\u001b[39;00m i \u001b[39min\u001b[39;00m \u001b[39mrange\u001b[39m(\u001b[39mint\u001b[39m(mixing \u001b[39m*\u001b[39m n)):\n\u001b[1;32m     <a href='vscode-notebook-cell:/Users/v/My%20Drive/Internships/Internship/Simulator.ipynb#ch0000008?line=10'>11</a>\u001b[0m     g1, g2 \u001b[39m=\u001b[39m randrange(n), randrange(n)\n\u001b[0;32m---> <a href='vscode-notebook-cell:/Users/v/My%20Drive/Internships/Internship/Simulator.ipynb#ch0000008?line=11'>12</a>\u001b[0m     fusion[g2], fusion[g1] \u001b[39m=\u001b[39m fusion[g1], fusion[g2]\n\u001b[1;32m     <a href='vscode-notebook-cell:/Users/v/My%20Drive/Internships/Internship/Simulator.ipynb#ch0000008?line=13'>14</a>\u001b[0m \u001b[39mreturn\u001b[39;00m fusion\n",
      "File \u001b[0;32m/usr/local/lib/python3.9/site-packages/pandas/core/frame.py:3505\u001b[0m, in \u001b[0;36mDataFrame.__getitem__\u001b[0;34m(self, key)\u001b[0m\n\u001b[1;32m   3503\u001b[0m \u001b[39mif\u001b[39;00m \u001b[39mself\u001b[39m\u001b[39m.\u001b[39mcolumns\u001b[39m.\u001b[39mnlevels \u001b[39m>\u001b[39m \u001b[39m1\u001b[39m:\n\u001b[1;32m   3504\u001b[0m     \u001b[39mreturn\u001b[39;00m \u001b[39mself\u001b[39m\u001b[39m.\u001b[39m_getitem_multilevel(key)\n\u001b[0;32m-> 3505\u001b[0m indexer \u001b[39m=\u001b[39m \u001b[39mself\u001b[39;49m\u001b[39m.\u001b[39;49mcolumns\u001b[39m.\u001b[39;49mget_loc(key)\n\u001b[1;32m   3506\u001b[0m \u001b[39mif\u001b[39;00m is_integer(indexer):\n\u001b[1;32m   3507\u001b[0m     indexer \u001b[39m=\u001b[39m [indexer]\n",
      "File \u001b[0;32m/usr/local/lib/python3.9/site-packages/pandas/core/indexes/base.py:3623\u001b[0m, in \u001b[0;36mIndex.get_loc\u001b[0;34m(self, key, method, tolerance)\u001b[0m\n\u001b[1;32m   3621\u001b[0m     \u001b[39mreturn\u001b[39;00m \u001b[39mself\u001b[39m\u001b[39m.\u001b[39m_engine\u001b[39m.\u001b[39mget_loc(casted_key)\n\u001b[1;32m   3622\u001b[0m \u001b[39mexcept\u001b[39;00m \u001b[39mKeyError\u001b[39;00m \u001b[39mas\u001b[39;00m err:\n\u001b[0;32m-> 3623\u001b[0m     \u001b[39mraise\u001b[39;00m \u001b[39mKeyError\u001b[39;00m(key) \u001b[39mfrom\u001b[39;00m \u001b[39merr\u001b[39;00m\n\u001b[1;32m   3624\u001b[0m \u001b[39mexcept\u001b[39;00m \u001b[39mTypeError\u001b[39;00m:\n\u001b[1;32m   3625\u001b[0m     \u001b[39m# If we have a listlike key, _check_indexing_error will raise\u001b[39;00m\n\u001b[1;32m   3626\u001b[0m     \u001b[39m#  InvalidIndexError. Otherwise we fall through and re-raise\u001b[39;00m\n\u001b[1;32m   3627\u001b[0m     \u001b[39m#  the TypeError.\u001b[39;00m\n\u001b[1;32m   3628\u001b[0m     \u001b[39mself\u001b[39m\u001b[39m.\u001b[39m_check_indexing_error(key)\n",
      "\u001b[0;31mKeyError\u001b[0m: 1446"
     ]
    }
   ],
   "source": [
    "fusion(ancestor, mixing = 1)"
   ]
  }
 ],
 "metadata": {
  "kernelspec": {
   "display_name": "Python 3.9.15 64-bit",
   "language": "python",
   "name": "python3"
  },
  "language_info": {
   "codemirror_mode": {
    "name": "ipython",
    "version": 3
   },
   "file_extension": ".py",
   "mimetype": "text/x-python",
   "name": "python",
   "nbconvert_exporter": "python",
   "pygments_lexer": "ipython3",
   "version": "3.9.15"
  },
  "orig_nbformat": 4,
  "vscode": {
   "interpreter": {
    "hash": "949777d72b0d2535278d3dc13498b2535136f6dfe0678499012e853ee9abcab1"
   }
  }
 },
 "nbformat": 4,
 "nbformat_minor": 2
}
